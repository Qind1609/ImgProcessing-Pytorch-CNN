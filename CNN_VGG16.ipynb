{
  "cells": [
    {
      "cell_type": "markdown",
      "metadata": {
        "id": "view-in-github",
        "colab_type": "text"
      },
      "source": [
        "<a href=\"https://colab.research.google.com/github/Qind1609/ImgProcessing-Pytorch-CNN/blob/main/CNN_VGG16.ipynb\" target=\"_parent\"><img src=\"https://colab.research.google.com/assets/colab-badge.svg\" alt=\"Open In Colab\"/></a>"
      ]
    },
    {
      "cell_type": "code",
      "execution_count": null,
      "metadata": {
        "id": "UPk_0O9RLqPH"
      },
      "outputs": [],
      "source": [
        "from google.colab import drive\n",
        "ROOT = \"/content/drive\"\n",
        "drive.mount(ROOT)\n",
        "\n",
        "import os\n",
        "from os.path import join\n",
        "\n",
        "\n",
        "PROJ = \"MyDrive/T.A/b4/Animal\"\n",
        "\n",
        "PROJECT_PATH = join(ROOT,PROJ)\n",
        "\n",
        "print(PROJECT_PATH)"
      ]
    },
    {
      "cell_type": "code",
      "source": [
        "!nvidia-smi"
      ],
      "metadata": {
        "id": "o3ReFaKFD6XG"
      },
      "execution_count": null,
      "outputs": []
    },
    {
      "cell_type": "markdown",
      "metadata": {
        "id": "-UyNpZzLJSxk"
      },
      "source": [
        "#Convolutional Neural Networks\n"
      ]
    },
    {
      "cell_type": "code",
      "execution_count": null,
      "metadata": {
        "id": "8p7EKgU8JSxn"
      },
      "outputs": [],
      "source": [
        "import torch\n",
        "import torch.nn as nn\n",
        "import torch.optim as optim\n",
        "import torch.utils.data\n",
        "import torch.nn.functional as F\n",
        "import torchvision\n",
        "from torchvision import transforms\n",
        "from PIL import Image"
      ]
    },
    {
      "cell_type": "markdown",
      "metadata": {
        "id": "UuboEXYjJSxr"
      },
      "source": [
        "## CNNNet-VGG16"
      ]
    },
    {
      "cell_type": "code",
      "execution_count": null,
      "metadata": {
        "id": "uEGG61XWJSxs"
      },
      "outputs": [],
      "source": [
        "class VGGNet(nn.Module):\n",
        "\n",
        "    def __init__(self, num_classes=5):\n",
        "        super(VGGNet, self).__init__()\n",
        "        self.features = nn.Sequential(\n",
        "            nn.Conv2d(3, 64, kernel_size=3, stride=1, padding=1),\n",
        "            nn.ReLU(),\n",
        "            nn.Conv2d(64, 64, kernel_size=3, stride=1, padding=1),\n",
        "            nn.ReLU(),\n",
        "            nn.MaxPool2d(kernel_size=2, stride=2),\n",
        "            nn.Conv2d(64, 128, kernel_size=3, padding=1),\n",
        "            nn.ReLU(),\n",
        "            nn.Conv2d(128, 128, kernel_size=3, padding=1),\n",
        "            nn.ReLU(),\n",
        "            nn.MaxPool2d(kernel_size=2, stride=2),\n",
        "            nn.Conv2d(128, 256, kernel_size=3, padding=1),\n",
        "            nn.ReLU(),\n",
        "            nn.Conv2d(256, 256, kernel_size=3, padding=1),\n",
        "            nn.ReLU(),\n",
        "            nn.Conv2d(256, 256, kernel_size=3, padding=1),\n",
        "            nn.ReLU(),\n",
        "            nn.MaxPool2d(kernel_size=2, stride=2),\n",
        "            nn.Conv2d(256, 512, kernel_size=3, padding=1),\n",
        "            nn.ReLU(),\n",
        "            nn.Conv2d(512, 512, kernel_size=3, padding=1),\n",
        "            nn.ReLU(),\n",
        "            nn.Conv2d(512, 512, kernel_size=3, padding=1),\n",
        "            nn.ReLU(),\n",
        "            nn.MaxPool2d(kernel_size=2, stride=2),\n",
        "            nn.Conv2d(512, 512, kernel_size=3, padding=1),\n",
        "            nn.ReLU(),\n",
        "            nn.Conv2d(512, 512, kernel_size=3, padding=1),\n",
        "            nn.ReLU(),\n",
        "            nn.Conv2d(512, 512, kernel_size=3, padding=1),\n",
        "            nn.ReLU(),\n",
        "            nn.MaxPool2d(kernel_size=2, stride=2),\n",
        "        )\n",
        "        self.classifier = nn.Sequential(\n",
        "            nn.Dropout(),\n",
        "            nn.Linear(4608, 4096),\n",
        "            nn.ReLU(),\n",
        "            nn.Dropout(),\n",
        "            nn.Linear(4096, 4096),\n",
        "            nn.ReLU(),\n",
        "            nn.Linear(4096, num_classes)\n",
        "        )\n",
        "    \n",
        "    def forward(self, x):\n",
        "        x = self.features(x)\n",
        "        x = torch.flatten(x, 1)\n",
        "        x = self.classifier(x)\n",
        "        return x"
      ]
    },
    {
      "cell_type": "code",
      "execution_count": null,
      "metadata": {
        "id": "84In1txtJSxu"
      },
      "outputs": [],
      "source": [
        "cnnnet = VGGNet()"
      ]
    },
    {
      "cell_type": "code",
      "execution_count": null,
      "metadata": {
        "id": "OncW4a_FJSxw"
      },
      "outputs": [],
      "source": [
        "def train(model, optimizer, loss_fn, train_loader, val_loader, epochs=20, device=\"cpu\"):\n",
        "    for epoch in range(1, epochs+1):\n",
        "        training_loss = 0.0\n",
        "        valid_loss = 0.0\n",
        "        model.train()\n",
        "        for batch in train_loader:\n",
        "            optimizer.zero_grad()\n",
        "            inputs, targets = batch\n",
        "            inputs = inputs.to(device)\n",
        "            targets = targets.to(device)\n",
        "            output = model(inputs)\n",
        "            loss = loss_fn(output, targets)\n",
        "            loss.backward()\n",
        "            optimizer.step()\n",
        "            training_loss += loss.data.item() * inputs.size(0)\n",
        "        training_loss /= len(train_loader.dataset)\n",
        "        \n",
        "        model.eval()\n",
        "        num_correct = 0 \n",
        "        num_examples = 0\n",
        "        for batch in val_loader:\n",
        "            inputs, targets = batch\n",
        "            inputs = inputs.to(device)\n",
        "            output = model(inputs)\n",
        "            targets = targets.to(device)\n",
        "            loss = loss_fn(output,targets) \n",
        "            valid_loss += loss.data.item() * inputs.size(0)\n",
        "            correct = torch.eq(torch.max(F.softmax(output, dim=1), dim=1)[1],\n",
        "                               targets)\n",
        "            num_correct += torch.sum(correct).item()\n",
        "            num_examples += correct.shape[0]\n",
        "        valid_loss /= len(val_loader.dataset)\n",
        "\n",
        "        print('Epoch: {}, Training Loss: {:.2f}, Validation Loss: {:.2f}, accuracy = {:.2f}'.format(epoch, training_loss,\n",
        "        valid_loss, num_correct / num_examples))"
      ]
    },
    {
      "cell_type": "code",
      "execution_count": null,
      "metadata": {
        "id": "JMDOP3O0JSxx"
      },
      "outputs": [],
      "source": [
        "def check_image(path):\n",
        "    try:\n",
        "        im = Image.open(path)\n",
        "        return True\n",
        "    except:\n",
        "        return False\n",
        "\n",
        "img_transforms = transforms.Compose([\n",
        "    transforms.Resize((100,100)),    \n",
        "    transforms.ToTensor(),\n",
        "    transforms.Normalize(mean=[0.485, 0.456, 0.406],\n",
        "                         std=[0.229, 0.224, 0.225])\n",
        "    ])\n",
        "train_data_path = join(PROJECT_PATH,\"train\")\n",
        "print()\n",
        "train_data = torchvision.datasets.ImageFolder(root=train_data_path,transform=img_transforms)\n",
        "train_cat = join(train_data_path,\"cat\")\n",
        "train_dog = join(train_data_path,\"dog\")\n",
        "train_lion = join(train_data_path,\"lion\")\n",
        "train_horse = join(train_data_path,\"horse\")\n",
        "train_elephant = join(train_data_path,\"elephant\")\n",
        "print(\"Cat image: {} images\".format(len(os.listdir(train_cat)))) #print number of images in folder val/cat\n",
        "print(\"Dog image: {} images\".format(len(os.listdir(train_dog)))) #print number of images in folder val/dog\n",
        "print(\"Elephant image: {} images\".format(len(os.listdir(train_elephant))))\n",
        "print(\"Lion image: {} images\".format(len(os.listdir(train_lion)))) \n",
        "print(\"Horse image: {} images\".format(len(os.listdir(train_horse))))\n",
        "val_data_path = join(PROJECT_PATH,\"val\")\n",
        "val_cat = join(val_data_path,\"cat\")\n",
        "val_dog = join(val_data_path,\"dog\")\n",
        "val_lion = join(val_data_path,\"lion\")\n",
        "val_horse = join(val_data_path,\"horse\")\n",
        "val_elephant = join(val_data_path,\"elephant\")\n",
        "print(\"Cat image: {} images\".format(len(os.listdir(val_cat)))) #print number of images in folder val/cat\n",
        "print(\"Dog image: {} images\".format(len(os.listdir(val_dog)))) #print number of images in folder val/dog\n",
        "print(\"Elephant image: {} images\".format(len(os.listdir(val_elephant))))\n",
        "print(\"Lion image: {} images\".format(len(os.listdir(val_lion)))) \n",
        "print(\"Horse image: {} images\".format(len(os.listdir(val_horse)))) \n",
        "val_data = torchvision.datasets.ImageFolder(root=val_data_path,transform=img_transforms)\n",
        "batch_size=100\n",
        "train_data_loader = torch.utils.data.DataLoader(train_data, batch_size=batch_size,shuffle=True)\n",
        "val_data_loader  = torch.utils.data.DataLoader(val_data, batch_size=batch_size, shuffle=True)\n",
        "\n",
        "if torch.cuda.is_available():\n",
        "    device = torch.device(\"cuda\")\n",
        "    print(device) \n",
        "else:\n",
        "    device = torch.device(\"cuda\")\n",
        "cnnnet.to(device)\n",
        "print(cnnnet)"
      ]
    },
    {
      "cell_type": "code",
      "execution_count": null,
      "metadata": {
        "id": "90K2NEmaJSxy"
      },
      "outputs": [],
      "source": [
        "optimizer = optim.Adam(cnnnet.parameters(), lr=0.001)"
      ]
    },
    {
      "cell_type": "markdown",
      "metadata": {
        "id": "nCrBvZMUkU3I"
      },
      "source": [
        ""
      ]
    },
    {
      "cell_type": "code",
      "execution_count": null,
      "metadata": {
        "id": "J0kJqOKBJSxz"
      },
      "outputs": [],
      "source": [
        "train(cnnnet, optimizer,torch.nn.CrossEntropyLoss(), train_data_loader,val_data_loader, epochs=100, device=device)"
      ]
    },
    {
      "cell_type": "code",
      "execution_count": null,
      "metadata": {
        "id": "u6e3ah1oMTKm"
      },
      "outputs": [],
      "source": [
        "labels = ['cat','dog','lion','horse','elephant']\n",
        "\n",
        "img = Image.open(r\"/content/drive/MyDrive/T.A/b4/Animal/test/0248HFV4VDZH.jpg\")\n",
        "display(img)\n",
        "img = img_transforms(img).to(device)\n",
        "img = torch.unsqueeze(img, 0)\n",
        "\n",
        "cnnnet.eval() #evaluation mode\n",
        "prediction = F.softmax(cnnnet(img), dim=1) #pass img through neural network, get output and then pass through softmax function...\n",
        "print(prediction) #probability to be cat (idx 0) or fish (idx 1)\n",
        "prediction = prediction.argmax() #return index of max value (max probability)\n",
        "print(labels[prediction]) #print the class respect to the index of max value prediction "
      ]
    },
    {
      "cell_type": "code",
      "execution_count": null,
      "metadata": {
        "id": "qOgKX0dJ2gO-"
      },
      "outputs": [],
      "source": [
        "\n",
        "img = Image.open(r\"/content/drive/MyDrive/T.A/b4/Animal/test/horses.jpg\")\n",
        "display(img)\n",
        "img = img_transforms(img).to(device)\n",
        "img = torch.unsqueeze(img, 0)\n",
        "\n",
        "cnnnet.eval() #evaluation mode\n",
        "prediction = F.softmax(cnnnet(img), dim=1) #pass img through neural network, get output and then pass through softmax function...\n",
        "print(prediction) #probability to be cat (idx 0) or fish (idx 1)\n",
        "prediction = prediction.argmax() #return index of max value (max probability)\n",
        "print(labels[prediction]) #print the class respect to the index of max value prediction "
      ]
    },
    {
      "cell_type": "code",
      "source": [
        "torch.save(cnnnet, 'best-model.pt') "
      ],
      "metadata": {
        "id": "eG1d6MwnQqkB"
      },
      "execution_count": null,
      "outputs": []
    },
    {
      "cell_type": "markdown",
      "metadata": {
        "id": "x6iK1wirJSx0"
      },
      "source": [
        "## Downloading a pretrained network "
      ]
    },
    {
      "cell_type": "code",
      "execution_count": null,
      "metadata": {
        "id": "SwJOpQGPJSx0"
      },
      "outputs": [],
      "source": [
        "import torchvision.models as models\n",
        "vgg16 = models.vgg16(num_classes=5, pretrained=False)"
      ]
    },
    {
      "cell_type": "code",
      "execution_count": null,
      "metadata": {
        "id": "ixVqF99AJSx1"
      },
      "outputs": [],
      "source": [
        "print(vgg16)"
      ]
    },
    {
      "cell_type": "markdown",
      "metadata": {
        "id": "SrbFlloFy6ub"
      },
      "source": [
        "![portrays-the-VGG16-model-for-ImageNet-40-It-has-13-convolutional-layers-and-three.png](data:image/png;base64,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)"
      ]
    },
    {
      "cell_type": "markdown",
      "metadata": {
        "id": "nv-f0KNOy9i2"
      },
      "source": [
        ""
      ]
    }
  ],
  "metadata": {
    "accelerator": "GPU",
    "colab": {
      "name": "CNN-VGG16.ipynb",
      "provenance": [],
      "machine_shape": "hm",
      "private_outputs": true,
      "include_colab_link": true
    },
    "kernelspec": {
      "display_name": "Python 3",
      "language": "python",
      "name": "python3"
    },
    "language_info": {
      "codemirror_mode": {
        "name": "ipython",
        "version": 3
      },
      "file_extension": ".py",
      "mimetype": "text/x-python",
      "name": "python",
      "nbconvert_exporter": "python",
      "pygments_lexer": "ipython3",
      "version": "3.9.12"
    }
  },
  "nbformat": 4,
  "nbformat_minor": 0
}